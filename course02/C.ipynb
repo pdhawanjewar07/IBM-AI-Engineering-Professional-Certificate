{
 "cells": [
  {
   "cell_type": "markdown",
   "metadata": {},
   "source": [
    "### Imports :"
   ]
  },
  {
   "cell_type": "code",
   "execution_count": 1,
   "metadata": {},
   "outputs": [],
   "source": [
    "from keras.models import Sequential\n",
    "from keras.layers import Dense\n",
    "import pandas as pd\n",
    "import numpy as np"
   ]
  },
  {
   "cell_type": "markdown",
   "metadata": {},
   "source": [
    "### Model :"
   ]
  },
  {
   "cell_type": "code",
   "execution_count": 2,
   "metadata": {},
   "outputs": [],
   "source": [
    "def regression_model(n_cols):\n",
    "    model = Sequential()\n",
    "    model.add(Dense(10,activation='relu', input_shape=(n_cols,)))   # 10 nodes in hidden layer\n",
    "    model.add(Dense(1)) # output layer\n",
    "    \n",
    "    model.compile(optimizer='adam', loss='mean_squared_error')\n",
    "    return model"
   ]
  },
  {
   "cell_type": "markdown",
   "metadata": {},
   "source": [
    "### Dataset :"
   ]
  },
  {
   "cell_type": "code",
   "execution_count": 3,
   "metadata": {},
   "outputs": [],
   "source": [
    "concrete_data = pd.read_csv('https://s3-api.us-geo.objectstorage.softlayer.net/cf-courses-data/CognitiveClass/DL0101EN/labs/data/concrete_data.csv')"
   ]
  },
  {
   "cell_type": "code",
   "execution_count": 4,
   "metadata": {},
   "outputs": [],
   "source": [
    "predictors = concrete_data.loc[:, concrete_data.columns!='Strength']\n",
    "target = concrete_data['Strength']"
   ]
  },
  {
   "cell_type": "code",
   "execution_count": 5,
   "metadata": {},
   "outputs": [],
   "source": [
    "predictors_norm = (predictors-predictors.mean())/predictors.std()"
   ]
  },
  {
   "cell_type": "markdown",
   "metadata": {},
   "source": [
    "### Training and Testing model :"
   ]
  },
  {
   "cell_type": "code",
   "execution_count": 6,
   "metadata": {},
   "outputs": [],
   "source": [
    "model = regression_model(predictors_norm.shape[1])"
   ]
  },
  {
   "cell_type": "code",
   "execution_count": 7,
   "metadata": {},
   "outputs": [
    {
     "name": "stdout",
     "output_type": "stream",
     "text": [
      "current iteration : 1\n",
      "current iteration : 2\n",
      "current iteration : 3\n",
      "current iteration : 4\n",
      "current iteration : 5\n",
      "current iteration : 6\n",
      "current iteration : 7\n",
      "current iteration : 8\n",
      "current iteration : 9\n",
      "current iteration : 10\n",
      "current iteration : 11\n",
      "current iteration : 12\n",
      "current iteration : 13\n",
      "current iteration : 14\n",
      "current iteration : 15\n",
      "current iteration : 16\n",
      "current iteration : 17\n",
      "current iteration : 18\n",
      "current iteration : 19\n",
      "current iteration : 20\n",
      "current iteration : 21\n",
      "current iteration : 22\n",
      "current iteration : 23\n",
      "current iteration : 24\n",
      "current iteration : 25\n",
      "current iteration : 26\n",
      "current iteration : 27\n",
      "current iteration : 28\n",
      "current iteration : 29\n",
      "current iteration : 30\n",
      "current iteration : 31\n",
      "current iteration : 32\n",
      "current iteration : 33\n",
      "current iteration : 34\n",
      "current iteration : 35\n",
      "current iteration : 36\n",
      "current iteration : 37\n",
      "current iteration : 38\n",
      "current iteration : 39\n",
      "current iteration : 40\n",
      "current iteration : 41\n",
      "current iteration : 42\n",
      "current iteration : 43\n",
      "current iteration : 44\n",
      "current iteration : 45\n",
      "current iteration : 46\n",
      "current iteration : 47\n",
      "current iteration : 48\n",
      "current iteration : 49\n",
      "current iteration : 50\n"
     ]
    }
   ],
   "source": [
    "mse_list = []\n",
    "\n",
    "for i in range(50):\n",
    "    print(f\"current iteration : {i+1}\")\n",
    "    history = model.fit(predictors_norm, target, validation_split=0.3, epochs=100, verbose=0, shuffle=True) # 100 epochs\n",
    "    final_loss = history.history['val_loss'][-1]\n",
    "    mse_list.append(final_loss)\n"
   ]
  },
  {
   "cell_type": "code",
   "execution_count": 8,
   "metadata": {},
   "outputs": [],
   "source": [
    "mean = np.array(mse_list).mean()\n",
    "std = np.array(mse_list).std()"
   ]
  },
  {
   "cell_type": "code",
   "execution_count": 9,
   "metadata": {},
   "outputs": [
    {
     "name": "stdout",
     "output_type": "stream",
     "text": [
      "mse_list mean is 105.940 and standard deviation is 23.054\n"
     ]
    }
   ],
   "source": [
    "print(f\"mse_list mean is {mean:.3f} and standard deviation is {std:.3f}\")"
   ]
  },
  {
   "cell_type": "markdown",
   "metadata": {},
   "source": [
    "#### comparison\n",
    "\n",
    "||B|C|Difference|\n",
    "|-|-|-|-|\n",
    "|mean(mse)|119.625|105.940|13.685|\n",
    "\n",
    "Note : results may vary due to shuffling"
   ]
  }
 ],
 "metadata": {
  "kernelspec": {
   "display_name": "Python 3",
   "language": "python",
   "name": "python3"
  },
  "language_info": {
   "codemirror_mode": {
    "name": "ipython",
    "version": 3
   },
   "file_extension": ".py",
   "mimetype": "text/x-python",
   "name": "python",
   "nbconvert_exporter": "python",
   "pygments_lexer": "ipython3",
   "version": "3.11.5"
  },
  "orig_nbformat": 4
 },
 "nbformat": 4,
 "nbformat_minor": 2
}
